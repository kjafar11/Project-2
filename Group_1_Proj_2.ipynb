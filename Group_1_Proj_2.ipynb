{
  "nbformat": 4,
  "nbformat_minor": 0,
  "metadata": {
    "colab": {
      "name": "Group_1_Proj_2",
      "provenance": [],
      "include_colab_link": true
    },
    "kernelspec": {
      "name": "python3",
      "display_name": "Python 3"
    }
  },
  "cells": [
    {
      "cell_type": "markdown",
      "metadata": {
        "id": "view-in-github",
        "colab_type": "text"
      },
      "source": [
        "<a href=\"https://colab.research.google.com/github/kjafar11/Project-2/blob/master/Group_1_Proj_2.ipynb\" target=\"_parent\"><img src=\"https://colab.research.google.com/assets/colab-badge.svg\" alt=\"Open In Colab\"/></a>"
      ]
    },
    {
      "cell_type": "markdown",
      "metadata": {
        "id": "I34vIgKTmAA9",
        "colab_type": "text"
      },
      "source": [
        "\n",
        "In our Penn State football ER diagram, we use Opponent, Stadium, Location, Tickets, Merchandise, and Merchandise Sales as entities. Our first diagram is Opponent with the primary key being OpponentID. We have four attributes for our Opponent diagram which are Conference, Non-conference, Home, and Away. "
      ]
    },
    {
      "cell_type": "markdown",
      "metadata": {
        "id": "IIszqq1nrw13",
        "colab_type": "text"
      },
      "source": [
        "The second diagram is Stadium with the primary key being StadiumID. We have five attributes which are Home, Away, Weather, Closed, and Open.  The Stadium diagram relates to the Opponent diagram with a one to one relationship.  There can only be one opponent and one stadium being used. "
      ]
    },
    {
      "cell_type": "markdown",
      "metadata": {
        "id": "lr8VQMzvr1Md",
        "colab_type": "text"
      },
      "source": [
        "The third diagram is Location and the primary key of it is LocationID. The attributes of this diagram are State, City, and StadiumID which is a foreign key.  The Location diagram relates to the Stadium diagram with a one to one relationship as well.  Since, only one stadium is being used then that stadium can only be at one location at a given time."
      ]
    },
    {
      "cell_type": "markdown",
      "metadata": {
        "id": "Z1YHqcNMr4u9",
        "colab_type": "text"
      },
      "source": [
        "The fourth diagram is Tickets with a primary key called TicketsID. There are four attributes of the diagram which are Game, Home, Away, and Quantity.  This diagram relates to the Opponent diagram with the Opponent diagram having a cardinality of (1,1) and the Tickets diagram having a cardinality of (0, 100000).  There can still only be one opponent, but there could possibly be zero tickets sold for the game, although that is very unlikely, and Beaver Stadium can hold about 100,000 people. It is also related to the Stadium diagram and the Location diagram. Both the location diagram and stadium diagram have a cardinality of (1,1) and the tickets diagram having a cardinality of (0,100000). The could only be one location or stadium but the stadium or locations can either have 0 tickets which again would be unlikely or 100,000. "
      ]
    },
    {
      "cell_type": "markdown",
      "metadata": {
        "id": "53vyZcx1r88w",
        "colab_type": "text"
      },
      "source": [
        "The fifth diagram is Merchandise with the primary key being MerchandiseID. The attributes of this diagram are called Clothing, Toys, Accessories, and Price. \n"
      ]
    },
    {
      "cell_type": "markdown",
      "metadata": {
        "id": "GbdMlKoksAm9",
        "colab_type": "text"
      },
      "source": [
        "The sixth diagram, which is also the dynamic table, is called Merchandise Sales. The primary key is called PriceID and there are two attributes which are Type and Quantity.  This diagram relates to the Merchandise diagram with a zero to many relationship.  There could be zero merchandise sales, although that would be unlikely, and we estimate there could be about 50,000 merchandise sales at a given game.  For the cardinality of the Merchandise diagram it is (0, 100000) because multiple pieces of merchandise can be bought in one merchandise sale, which is why it has a different cardinality than the cardinality for Merchandise Sales."
      ]
    }
  ]
}